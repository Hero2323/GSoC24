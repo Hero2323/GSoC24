{
 "cells": [
  {
   "cell_type": "code",
   "execution_count": 1,
   "metadata": {},
   "outputs": [
    {
     "name": "stderr",
     "output_type": "stream",
     "text": [
      "/home/jimbo/Desktop/GSoC24/repo/GSoC24/gsoc24env/lib/python3.8/site-packages/sentence_transformers/cross_encoder/CrossEncoder.py:11: TqdmWarning: IProgress not found. Please update jupyter and ipywidgets. See https://ipywidgets.readthedocs.io/en/stable/user_install.html\n",
      "  from tqdm.autonotebook import tqdm, trange\n",
      "/home/jimbo/Desktop/GSoC24/repo/GSoC24/gsoc24env/lib/python3.8/site-packages/huggingface_hub/file_download.py:1132: FutureWarning: `resume_download` is deprecated and will be removed in version 1.0.0. Downloads always resume when possible. If you want to force a new download, use `force_download=True`.\n",
      "  warnings.warn(\n"
     ]
    }
   ],
   "source": [
    "from helpers.models import Models\n",
    "from helpers.llm_client import LLMClient\n",
    "from helpers.parsers import license_parser\n",
    "import pandas as pd\n",
    "import os\n",
    "import nirjas\n",
    "\n",
    "pd.set_option('display.max_rows', None)    # Show all rows\n",
    "# pd.set_option('display.max_colwidth', None)  # Show full column width"
   ]
  },
  {
   "cell_type": "code",
   "execution_count": 3,
   "metadata": {},
   "outputs": [
    {
     "data": {
      "text/plain": [
       "'OK'"
      ]
     },
     "execution_count": 3,
     "metadata": {},
     "output_type": "execute_result"
    }
   ],
   "source": [
    "# Check to make sure that all API keys are present\n",
    "os.environ['GROQ_API_KEY'] \n",
    "os.environ['NVIDIA_API_KEY']\n",
    "os.environ['TOGETHER_API_KEY']    \n",
    "'OK'\n",
    "#"
   ]
  },
  {
   "cell_type": "code",
   "execution_count": 11,
   "metadata": {},
   "outputs": [],
   "source": [
    "def prompt_function(text):\n",
    "    return f\"\"\"\n",
    "    [Task]\n",
    "    You are provided with text extracted from a file, along with potential license matches identified by a semantic search tool.\n",
    "    Your task is to carefully analyze the provided text and metadata to determine the actual software license(s) present in the original file.\n",
    "    Out of the 10 provided lines, not all matches will be correct or relevant, so focus on the most relevant lines in your analysis.\n",
    "\n",
    "    [Metadata Explanation]\n",
    "    The metadata provided for each line is a tuple containing four elements:\n",
    "        * **Line:** The actual line of text extracted from the file.\n",
    "        * **Potential License Match:** The name of a license that the semantic search tool believes the line might belong to.\n",
    "        * **License ID:** The SPDX identifier of the potential license match.\n",
    "        * **Matched License Text:** The specific text within the potential license that the line was matched to.\n",
    "\n",
    "    [Guidelines]\n",
    "    1. **License Identification:** If a license is found, clearly state its name and its corresponding SPDX identifier (e.g., MIT License, SPDX-License-Identifier: MIT). If multiple licenses are found, list them all.\n",
    "    2. **Evidence and Reasoning (Focus on Relevance and Clarity):** \n",
    "        * For each identified license, extract the specific text snippet(s) from the provided text that confirm its presence. Include surrounding context if it helps clarify the license's applicability. Prioritize the most relevant lines of text.\n",
    "        * Explain why the identified license is the most likely match, taking into account the potential license matches and the matched license text provided in the metadata.\n",
    "        * Only consider matches that are clear and obviously correct. The semantic search tool will always attempt to match lines to licenses, but these matches are not always accurate.\n",
    "    3. **Override Semantic Search:** If the semantic search tool's suggested match seems incorrect, feel free to disregard it and rely on your own knowledge and analysis to determine the correct license. Provide a clear explanation of why you chose a different license.\n",
    "    4. **Exclude Irrelevant Information:**\n",
    "        * Disregard copyright notices and statements and lines of code as they do not indicate the software license.\n",
    "        * Focus only on text that is found in licenses or clearly identifies licenses.\n",
    "    5. **No License Scenario:** If no license is detected in the text, explicitly state \"No software license found.\"\n",
    "    6. **Ambiguity:** If the license cannot be confidently determined due to ambiguity or conflicting information, clearly state this and provide an explanation.\n",
    "    7. **Response Format:** Provide the results in the following format:\n",
    "        *   **Licenses = [list of identified licenses]** \n",
    "        *   **SPDX-IDs = [list of corresponding SPDX identifiers]**\n",
    "\n",
    "        If no licenses are found, both lists should be empty:\n",
    "\n",
    "        *   **Licenses = []**\n",
    "        *   **SPDX-IDs = []** \n",
    "\n",
    "    [Text and Metadata]\n",
    "    {text}\n",
    "    \"\"\"\n"
   ]
  },
  {
   "cell_type": "code",
   "execution_count": 12,
   "metadata": {},
   "outputs": [],
   "source": [
    "def prompt_function_1(text):\n",
    "    return f\"\"\"\n",
    "    [Task]\n",
    "    Identify the software license(s) present in the following text.\n",
    "\n",
    "    [Metadata]\n",
    "    Each line includes potential license matches. These are not always accurate.\n",
    "\n",
    "    [Guidelines]\n",
    "    1.  **Focus on Relevance:** Prioritize the most relevant lines and matches.\n",
    "    2.  **Override Matches:** Disregard incorrect suggestions.\n",
    "    3.  **Ignore Irrelevant Information:** Disregard copyright notices and code.\n",
    "    4.  **No License:** If no license is found, state \"No software license found.\"\n",
    "    5.  **Ambiguity:** If uncertain, explain the ambiguity.\n",
    "    6.  **Response Format:**\n",
    "        *   **Licenses = [list of identified licenses]**\n",
    "        *   **SPDX-IDs = [list of corresponding SPDX identifiers]**\n",
    "\n",
    "    [Text and Metadata]\n",
    "    {text}\n",
    "    \"\"\""
   ]
  },
  {
   "cell_type": "code",
   "execution_count": 13,
   "metadata": {},
   "outputs": [],
   "source": [
    "def prompt_function_2(text):\n",
    "    return f\"\"\"\n",
    "    [Task]\n",
    "    Identify the software license(s) present in the following text.\n",
    "\n",
    "    [Metadata]\n",
    "    Each line includes potential license matches. These are not always accurate.\n",
    "\n",
    "    [Guidelines]\n",
    "    1.  **Focus on License-Specific Text:** Consider only lines that:\n",
    "        *   Explicitly mention license terms (e.g., \"SPDX-License-Identifier,\" \"License,\" \"copyright,\" \"distribution,\" \"modification\").\n",
    "        *   Directly quote from known license texts (e.g., \"Permission is hereby granted...\").\n",
    "\n",
    "    2.  **Ignore Irrelevant Information:** \n",
    "        *   Disregard copyright notices, code snippets, comments, and general documentation.\n",
    "        *   If a match seems unrelated to licensing, ignore it.\n",
    "    \n",
    "    3.  **No License:** If no license is found, state \"No software license found.\"\n",
    "    4.  **Ambiguity:** If uncertain, explain the ambiguity.\n",
    "    5.  **Response Format:**\n",
    "        *   **Licenses = [list of identified licenses]**\n",
    "        *   **SPDX-IDs = [list of corresponding SPDX identifiers]**\n",
    "\n",
    "    [Text and Metadata]\n",
    "    {text}\n",
    "    \"\"\"\n"
   ]
  },
  {
   "cell_type": "code",
   "execution_count": 14,
   "metadata": {},
   "outputs": [],
   "source": [
    "def prompt_function_3(text):\n",
    "    return f\"\"\"\n",
    "    [Task]\n",
    "    Identify the software license(s) present in the following text.\n",
    "\n",
    "    [Metadata]\n",
    "    Each line includes potential license matches. These are not always accurate.\n",
    "\n",
    "    [Guidelines]\n",
    "    1. **Focus on License-Specific Text:** Consider only lines that:\n",
    "        * Explicitly mention license terms (e.g., \"SPDX-License-Identifier,\" \"License,\" \"distribution,\" \"modification\").\n",
    "        * Directly quote from known license texts (e.g., \"Permission is hereby granted...\").\n",
    "        * Include specific license references or titles.\n",
    "\n",
    "        **Examples of relevant lines:**\n",
    "        * \"SPDX-License-Identifier: GPL-2.0-only\"\n",
    "        * \"This software is licensed under the MIT License.\"\n",
    "        * \"Permission is hereby granted, free of charge, to any person obtaining a copy of this software...\"\n",
    "\n",
    "    2. **Ignore Irrelevant Information:** \n",
    "        * Disregard copyright notices, code snippets, comments, and general documentation.\n",
    "        * If a match seems unrelated to licensing, ignore it.\n",
    "\n",
    "        **Examples of irrelevant lines:**\n",
    "        * \"Setup of a region of guest memory for the MSR bitmap.\"\n",
    "        * \"Allocate memory regions for nested VMX tests.\"\n",
    "        * \"tools/testing/selftests/kvm/lib/x86_64/vmx.c** Copyright (C) 2018, Google LLC.\"\n",
    "\n",
    "    3. **No License:** If no license is found, state \"No software license found.\"\n",
    "    4. **Ambiguity:** If uncertain, explain the ambiguity.\n",
    "    5. **Response Format:**\n",
    "        * **Licenses = [list of identified licenses]**\n",
    "        * **SPDX-IDs = [list of corresponding SPDX identifiers]**\n",
    "\n",
    "    [Text and Metadata]\n",
    "    {text}\n",
    "    \"\"\"\n"
   ]
  },
  {
   "cell_type": "code",
   "execution_count": 15,
   "metadata": {},
   "outputs": [],
   "source": [
    "def prompt_function_4(text):\n",
    "    return f\"\"\"\n",
    "    [Task]\n",
    "    From the following lines, select those that are relevant to software licensing and ignore the rest.\n",
    "\n",
    "    [Metadata]\n",
    "    The metadata provided for each line is a tuple containing four elements:\n",
    "        * **Line:** The actual line of text extracted from the file.\n",
    "        * **Potential License Match:** The name of a license that the semantic search tool believes the line might belong to.\n",
    "        * **License ID:** The SPDX identifier of the potential license match.\n",
    "        * **Matched License Text:** The specific text within the potential license that the line was matched to.\n",
    "\n",
    "    [Guidelines]\n",
    "    1. **Select License-Specific Lines:** Choose only lines that:\n",
    "        * Explicitly mention license terms (e.g., \"SPDX-License-Identifier,\" \"License,\" \"distribution,\" \"modification\").\n",
    "        * Directly quote from known license texts (e.g., \"Permission is hereby granted...\").\n",
    "        * Include specific license references or titles.\n",
    "\n",
    "        **Examples of relevant lines:**\n",
    "        * \"SPDX-License-Identifier: GPL-2.0-only\"\n",
    "        * \"This software is licensed under the MIT License.\"\n",
    "        * \"Permission is hereby granted, free of charge, to any person obtaining a copy of this software...\"\n",
    "\n",
    "    2. **Ignore Irrelevant Lines:** \n",
    "        * Disregard copyright notices, code snippets, comments, and general documentation.\n",
    "        * Ignore lines that do not specifically reference or include license terms.\n",
    "\n",
    "        **Examples of irrelevant lines:**\n",
    "        * \"Setup of a region of guest memory for the MSR bitmap.\"\n",
    "        * \"Allocate memory regions for nested VMX tests.\"\n",
    "        * \"tools/testing/selftests/kvm/lib/x86_64/vmx.c** Copyright (C) 2018, Google LLC.\"\n",
    "\n",
    "    3. **No License:** If no license is found, state \"No software license found.\"\n",
    "    4. **Ambiguity:** If uncertain, explain the ambiguity.\n",
    "    5. **Response Format:**\n",
    "        * **Relevant Lines = [list of relevant lines]**\n",
    "        * **Licenses = [list of identified licenses from relevant lines]**\n",
    "        * **SPDX-IDs = [list of corresponding SPDX identifiers from relevant lines]**\n",
    "\n",
    "    [Text and Metadata]\n",
    "    {text}\n",
    "    \"\"\"\n"
   ]
  },
  {
   "cell_type": "code",
   "execution_count": 22,
   "metadata": {},
   "outputs": [],
   "source": [
    "def prompt_function_5(text):\n",
    "    return f\"\"\"\n",
    "    [Task]\n",
    "    From the following tuples, select those that are relevant to software licensing and ignore the rest.\n",
    "    A relevant tuple is a tuple that contains a line of text that is relevant and can be used to identify a license.\n",
    "\n",
    "    [Tuples]\n",
    "    Each tuple consists of three elements:\n",
    "        1. **Line:** The actual line of text extracted from the file. This is the element you need to evaluate for relevance to software licensing.\n",
    "        2. **Potential License Match:** The name of a license that the semantic search tool suggests the line might belong to (provided for reference).\n",
    "        3. **License ID:** The SPDX identifier of the potential license match (provided for reference).\n",
    "        \n",
    "    [Guidelines]\n",
    "    1. **Select License-Specific Lines:** Choose only lines that:\n",
    "        * Explicitly mention license terms \n",
    "        * Directly quote from known license texts\n",
    "        * Include specific license references or titles.\n",
    "\n",
    "    2. **Ignore Irrelevant Lines:** \n",
    "        * Disregard lines that do not explicitly mention license terms.\n",
    "        * Ignore copyright notices, code snippets, comments, and general documentation.\n",
    "        * Ignore code documentation lines that seem to be documenting code or just general instructions or information.\n",
    "        * Do not select lines that are general descriptions, code, or comments unrelated to license terms.\n",
    "\n",
    "    3. **No License:** If no license is found, state \"No software license found.\"\n",
    "    4. **Ambiguity:** If uncertain, explain the ambiguity.\n",
    "    5. **Response Format:**\n",
    "        * **Relevant Lines = [list of relevant lines]**\n",
    "        * **Licenses = [list of identified licenses from relevant lines]**\n",
    "        * **SPDX-IDs = [list of corresponding SPDX identifiers from relevant lines]**\n",
    "\n",
    "    [Text and Metadata]\n",
    "    {text}\n",
    "    \"\"\"\n"
   ]
  },
  {
   "cell_type": "code",
   "execution_count": 17,
   "metadata": {},
   "outputs": [],
   "source": [
    "df = pd.read_csv('extras/dataset-labeled-1-75.csv')\n",
    "client = LLMClient()"
   ]
  },
  {
   "cell_type": "code",
   "execution_count": null,
   "metadata": {},
   "outputs": [],
   "source": [
    "sampled_data_mistral_7b = client.process_dataset(df.loc[0:19], df_path='dataset-labeled-1-75.csv',\n",
    "                                    model=Models.MISTRAL_7b,\n",
    "                                    prompt_function=prompt_function_1,\n",
    "                                    parser=license_parser,\n",
    "                                    extra_file_path='extras',\n",
    "                                    log_every=5,\n",
    "                                )"
   ]
  },
  {
   "cell_type": "code",
   "execution_count": 32,
   "metadata": {},
   "outputs": [
    {
     "name": "stdout",
     "output_type": "stream",
     "text": [
      "Loading pre-embedded licenses from: /home/jimbo/Desktop/GSoC24/repo/GSoC24/extras/license_information/license_embeddings/768_all-mpnet-base-v2-license-embedding.pkl\n"
     ]
    },
    {
     "name": "stderr",
     "output_type": "stream",
     "text": [
      "/home/jimbo/Desktop/GSoC24/repo/GSoC24/gsoc24env/lib/python3.8/site-packages/huggingface_hub/file_download.py:1132: FutureWarning: `resume_download` is deprecated and will be removed in version 1.0.0. Downloads always resume when possible. If you want to force a new download, use `force_download=True`.\n",
      "  warnings.warn(\n",
      "\u001b[32m2024-07-04 13:21:19.608\u001b[0m | \u001b[1mINFO    \u001b[0m | \u001b[36mhelpers.llm_client\u001b[0m:\u001b[36mprocess_dataset\u001b[0m:\u001b[36m226\u001b[0m - \u001b[1mProcessing index: 0\u001b[0m\n",
      "huggingface/tokenizers: The current process just got forked, after parallelism has already been used. Disabling parallelism to avoid deadlocks...\n",
      "To disable this warning, you can either:\n",
      "\t- Avoid using `tokenizers` before the fork if possible\n",
      "\t- Explicitly set the environment variable TOKENIZERS_PARALLELISM=(true | false)\n"
     ]
    }
   ],
   "source": [
    "sampled_data_gemma_2_9b = client.process_dataset(df.loc[0:4], df_path='dataset-labeled-1-75.csv',\n",
    "                                    model=Models.GEMMA_2_9b,\n",
    "                                    prompt_function=prompt_function_5,\n",
    "                                    parser=license_parser,\n",
    "                                    extra_file_path='extras',\n",
    "                                    log_every=5,\n",
    "                                    output_name='test'\n",
    "                                )"
   ]
  },
  {
   "cell_type": "code",
   "execution_count": 34,
   "metadata": {},
   "outputs": [
    {
     "name": "stdout",
     "output_type": "stream",
     "text": [
      "**Relevant Lines = [('SPDX-License-Identifier: GPL-2.0-only',), ('Setup of a region of guest memory for the vmxon region.',), ('Setup of a region of guest memory for the shadow VMCS.',), ('Allocate memory regions for nested VMX tests.',), ('Load a VMCS.',)]**\n",
      "\n",
      "**Licenses = ['GNU General Public License v2.0 only', 'PolyForm Noncommercial License 1.0.0', 'Affero General Public License v1.0 or later', 'mailprio License']**\n",
      "\n",
      "**SPDX-IDs = ['GPL-2.0-only', 'PolyForm-Noncommercial-1.0.0', 'AGPL-1.0-or-later', 'mailprio']** \n",
      "\n",
      "\n",
      "Let me explain the selections:\n",
      "\n",
      "* **('SPDX-License-Identifier: GPL-2.0-only',)**: This line explicitly states the license identifier, making it highly relevant.\n",
      "* **('Setup of a region of guest memory for the vmxon region.',)**:  While not directly mentioning a license, this line appears within a context where license information is likely to be found (e.g., within a file dedicated to license details).\n",
      "* **('Setup of a region of guest memory for the shadow VMCS.',)**: Similar to the previous line, its context suggests a potential license association.\n",
      "* **('Allocate memory regions for nested VMX tests.',)**:  Again, the context points towards a section where license information might be present.\n",
      "* **('Load a VMCS.',)**:  Similar reasoning as above.\n",
      "\n",
      "\n",
      "\n",
      "Let me know if you have any other text snippets you'd like me to analyze!\n"
     ]
    }
   ],
   "source": [
    "print(sampled_data_gemma_2_9b.loc[1, 'response'])"
   ]
  },
  {
   "cell_type": "code",
   "execution_count": null,
   "metadata": {},
   "outputs": [],
   "source": [
    "sampled_data_phi_3_mini = client.process_dataset(df.loc[0:19], df_path='dataset-labeled-1-75.csv',\n",
    "                                    model=Models.PHI_3_MINI,\n",
    "                                    prompt_function=prompt_function_1,\n",
    "                                    parser=license_parser,\n",
    "                                    extra_file_path='extras',\n",
    "                                    log_every=5,\n",
    "                                )"
   ]
  },
  {
   "cell_type": "code",
   "execution_count": null,
   "metadata": {},
   "outputs": [],
   "source": [
    "sampled_data_phi_3_small = client.process_dataset(df.loc[0:19], df_path='dataset-labeled-1-75.csv',\n",
    "                                    model=Models.PHI_3_SMALL,\n",
    "                                    prompt_function=prompt_function_1,\n",
    "                                    parser=license_parser,\n",
    "                                    extra_file_path='extras',\n",
    "                                    log_every=5,\n",
    "                                )"
   ]
  },
  {
   "cell_type": "code",
   "execution_count": 28,
   "metadata": {},
   "outputs": [
    {
     "name": "stdout",
     "output_type": "stream",
     "text": [
      "Loading pre-embedded licenses from: /home/jimbo/Desktop/GSoC24/repo/GSoC24/extras/license_information/license_embeddings/768_all-mpnet-base-v2-license-embedding.pkl\n"
     ]
    },
    {
     "name": "stderr",
     "output_type": "stream",
     "text": [
      "/home/jimbo/Desktop/GSoC24/repo/GSoC24/gsoc24env/lib/python3.8/site-packages/huggingface_hub/file_download.py:1132: FutureWarning: `resume_download` is deprecated and will be removed in version 1.0.0. Downloads always resume when possible. If you want to force a new download, use `force_download=True`.\n",
      "  warnings.warn(\n",
      "\u001b[32m2024-07-04 13:18:23.762\u001b[0m | \u001b[1mINFO    \u001b[0m | \u001b[36mhelpers.llm_client\u001b[0m:\u001b[36mprocess_dataset\u001b[0m:\u001b[36m226\u001b[0m - \u001b[1mProcessing index: 0\u001b[0m\n"
     ]
    }
   ],
   "source": [
    "sampled_data_llama_3_8b = client.process_dataset(df.loc[0:4], df_path='dataset-labeled-1-75.csv',\n",
    "                                    model=Models.LLAMA_3_8b,\n",
    "                                    prompt_function=prompt_function_5,\n",
    "                                    parser=license_parser,\n",
    "                                    extra_file_path='extras',\n",
    "                                    log_every=5,\n",
    "                                    output_name='test'\n",
    "                                )"
   ]
  },
  {
   "cell_type": "code",
   "execution_count": 35,
   "metadata": {},
   "outputs": [
    {
     "name": "stdout",
     "output_type": "stream",
     "text": [
      "**Relevant Lines = [('SPDX-License-Identifier: GPL-2.0-only',), ('Setup of a region of guest memory for the vmxon region.',), ('Setup of a region of guest memory for the shadow VMCS.',), ('Allocate memory regions for nested VMX tests.',), ('Load a VMCS.',)]**\n",
      "\n",
      "**Licenses = ['GNU General Public License v2.0 only', 'PolyForm Noncommercial License 1.0.0', 'Affero General Public License v1.0 or later', 'mailprio License']**\n",
      "\n",
      "**SPDX-IDs = ['GPL-2.0-only', 'PolyForm-Noncommercial-1.0.0', 'AGPL-1.0-or-later', 'mailprio']** \n",
      "\n",
      "\n",
      "Let me explain the selections:\n",
      "\n",
      "* **('SPDX-License-Identifier: GPL-2.0-only',)**: This line explicitly states the license identifier, making it highly relevant.\n",
      "* **('Setup of a region of guest memory for the vmxon region.',)**:  While not directly mentioning a license, this line appears within a context where license information is likely to be found (e.g., within a file dedicated to license details).\n",
      "* **('Setup of a region of guest memory for the shadow VMCS.',)**: Similar to the previous line, its context suggests a potential license association.\n",
      "* **('Allocate memory regions for nested VMX tests.',)**:  Again, the context points towards a section where license information might be present.\n",
      "* **('Load a VMCS.',)**:  Similar reasoning as above.\n",
      "\n",
      "\n",
      "\n",
      "Let me know if you have any other text snippets you'd like me to analyze!\n"
     ]
    }
   ],
   "source": [
    "print(sampled_data_llama_3_8b.loc[1, 'response'])"
   ]
  },
  {
   "cell_type": "code",
   "execution_count": 27,
   "metadata": {},
   "outputs": [
    {
     "name": "stdout",
     "output_type": "stream",
     "text": [
      "SPDX-License-Identifier: GPL-2.0-only\n",
      "tools/testing/selftests/kvm/lib/x86_64/vmx.c** Copyright (C) 2018, Google LLC.\n",
      "KVM should return supported EVMCS version range\n",
      "Allocate memory regions for nested VMX tests.** Input Args:*   vm - The VM to allocate guest-virtual addresses in.** Output Args:*   p_vmx_gva - The guest virtual address for the struct vmx_pages.** Return:*   Pointer to structure with the addresses of the VMX areas.\n",
      "Setup of a region of guest memory for the vmxon region.\n",
      "Setup of a region of guest memory for a vmcs.\n",
      "Setup of a region of guest memory for the MSR bitmap.\n",
      "Setup of a region of guest memory for the shadow VMCS.\n",
      "Setup of a region of guest memory for the VMREAD and VMWRITE bitmaps.\n",
      "Ensure bits in CR0 and CR4 are valid in VMX operation:* - Bit X is 1 in _FIXED0: bit X is fixed to 1 in CRx.* - Bit X is 0 in _FIXED1: bit X is fixed to 0 in CRx.\n",
      "Enable VMX operation\n",
      "Configure IA32_FEATURE_CONTROL MSR to allow VMXON:*  Bit 0: Lock bit. If clear, VMXON causes a #GP.*  Bit 2: Enables VMXON outside of SMX operation. If clear, VMXON*    outside of SMX causes a #GP.\n",
      "Enter VMX root operation.\n",
      "Load a VMCS.\n",
      "Setup shadow VMCS, do not load it yet.\n",
      "Initialize the control fields to the most basic settings possible.\n",
      "+ 1\n",
      "Never match\n",
      "64-bit host\n",
      "64-bit guest\n",
      "Initialize the host state fields based on the current host state, with* the exception of HOST_RSP and HOST_RIP, which should be set by vmlaunch* or vmresume.\n",
      "Initialize the guest state fields essentially as a clone of* the host state fields. Some host state fields have fixed* values, and we set the corresponding guest state fields accordingly.\n",
      "Entry already present.  Assert that the caller doesn't want* a hugepage at this level, and that there isn't a hugepage at* this level.\n",
      "For now mark these as accessed and dirty because the only* testcase we have needs that.  Can be reconsidered later.\n",
      "Map a range of EPT guest physical addresses to the VM's physical address** Input Args:*   vm - Virtual Machine*   nested_paddr - Nested guest physical address to map*   paddr - VM Physical Address*   size - The size of the range to map*   level - The level at which to map the range** Output Args: None** Return: None** Within the VM given by vm, creates a nested guest translation for the* page range starting at nested_paddr to the page range starting at paddr.\n",
      "Prepare an identity extended page table that maps all the* physical pages in VM.\n",
      "Identity map a region with 1GiB Pages.\n"
     ]
    }
   ],
   "source": [
    "print(sampled_data_llama_3_8b.loc[1, 'file_comments'])"
   ]
  },
  {
   "cell_type": "code",
   "execution_count": null,
   "metadata": {},
   "outputs": [],
   "source": [
    "df.loc[1, 'file_comments']"
   ]
  },
  {
   "cell_type": "code",
   "execution_count": null,
   "metadata": {},
   "outputs": [],
   "source": [
    "print(sampled_data_mistral_7b.loc[1, 'response'])"
   ]
  },
  {
   "cell_type": "code",
   "execution_count": null,
   "metadata": {},
   "outputs": [],
   "source": [
    "sampled_data_mistral_7b = sampled_data_mistral_7b.rename(columns={'response': 'mistral_response'})\n",
    "sampled_data_llama_3_8b = sampled_data_llama_3_8b.rename(columns={'response': 'llama_response'})\n",
    "sampled_data_gemma_1_7b = sampled_data_gemma_1_7b.rename(columns={'response': 'gemma_response'})\n",
    "merged_df = pd.merge(sampled_data_llama_3_8b, sampled_data_mistral_7b, on='file path').merge(sampled_data_gemma_1_7b, on='file path')\n",
    "merged_df[['scan results_x', 'llama_response', 'mistral_response', 'gemma_response']]"
   ]
  }
 ],
 "metadata": {
  "kernelspec": {
   "display_name": "gsoc24env",
   "language": "python",
   "name": "python3"
  },
  "language_info": {
   "codemirror_mode": {
    "name": "ipython",
    "version": 3
   },
   "file_extension": ".py",
   "mimetype": "text/x-python",
   "name": "python",
   "nbconvert_exporter": "python",
   "pygments_lexer": "ipython3",
   "version": "3.8.10"
  }
 },
 "nbformat": 4,
 "nbformat_minor": 2
}
