{
 "cells": [
  {
   "cell_type": "code",
   "execution_count": null,
   "metadata": {},
   "outputs": [],
   "source": [
    "import pandas as pd\n",
    "from helpers.functions import *\n",
    "from helpers.models import Models\n",
    "from helpers.llm_client import LLMClient\n",
    "from helpers.parsers import license_parser\n",
    "from helpers.functions import *\n",
    "import pandas as pd\n",
    "pd.set_option('display.max_rows', None)    # Show all rows\n",
    "pd.set_option('display.max_colwidth', None)  # Show full column width"
   ]
  },
  {
   "cell_type": "code",
   "execution_count": null,
   "metadata": {},
   "outputs": [],
   "source": [
    "df0 = pd.read_csv('extras/linux-master.csv', index_col=0)\n",
    "df1 = pd.read_csv('extras/pytorch-main.csv')\n",
    "df2 = pd.concat([df0, df1])\n",
    "df = sample_by_label_limit(df2, 'scan results', 10, 42)\n",
    "df = df.drop(columns=['concluded results'])\n",
    "df['scan results'].value_counts()"
   ]
  },
  {
   "cell_type": "code",
   "execution_count": null,
   "metadata": {},
   "outputs": [],
   "source": [
    "df.head(5)"
   ]
  },
  {
   "cell_type": "code",
   "execution_count": null,
   "metadata": {},
   "outputs": [],
   "source": [
    "df['license_relevant_lines'] = [[] for _ in range(len(df))]"
   ]
  },
  {
   "cell_type": "code",
   "execution_count": null,
   "metadata": {},
   "outputs": [],
   "source": [
    "df.head(5)"
   ]
  },
  {
   "cell_type": "code",
   "execution_count": null,
   "metadata": {},
   "outputs": [],
   "source": [
    "create_license_dataset('extras/license_information/details')\n",
    "client = LLMClient()\n",
    "df = client.temp_function(df)\n",
    "df.head(5)"
   ]
  },
  {
   "cell_type": "code",
   "execution_count": null,
   "metadata": {},
   "outputs": [],
   "source": [
    "df.to_csv('extras/dataset.csv')"
   ]
  },
  {
   "cell_type": "code",
   "execution_count": null,
   "metadata": {},
   "outputs": [],
   "source": [
    "file_idx = 13\n",
    "results = get_top_similar_license_lines(\\\n",
    "                df.loc[file_idx, 'file_comments'],\n",
    "                'extras/license_information/license_dataset.txt',\n",
    "                # model='bow',\n",
    "                top_k=10,\n",
    "                embedding_approach='license-embedding'\n",
    "            )\n",
    "results"
   ]
  },
  {
   "cell_type": "code",
   "execution_count": null,
   "metadata": {},
   "outputs": [],
   "source": [
    "df.loc[119]"
   ]
  },
  {
   "cell_type": "code",
   "execution_count": null,
   "metadata": {},
   "outputs": [],
   "source": [
    "def prompt_function(text):\n",
    "    return f\"\"\"\n",
    "    [Task]\n",
    "        - Given a list of tuples representing lines of text (with some metadata), identify and return only the lines that are relevant to software licenses.\n",
    "        - \n",
    "\n",
    "    [Guidelines]\n",
    "        1. **License Relevance:** A line is considered relevant if it contains keywords typically found in software licenses (e.g., \"Copyright,\" \"License,\" \"SPDX-License-Identifier,\" common license names like \"MIT,\" \"GPL,\" \"Apache\"). \n",
    "        2. **Output Format:** Return a list containing only the license-relevant lines of text. If multiple relevant lines exist, include them all in the list. If no relevant lines are found, return an empty list: `[]`.\n",
    "        3. DO NOT provide an explanation. Return the output only\n",
    "        4. DO NOT make up licenses or assume any information. Return the lines as they are in the input\n",
    "        \n",
    "    [Example Input]\n",
    "        [(1, 0.51916325, 'Copyright 2015, Anton Blanchard, IBM Corp.'),\n",
    "        (0, 0.50058347, 'SPDX-License-Identifier: GPL-2.0-only')]\n",
    "    \n",
    "    [Example Output]\n",
    "        ['SPDX-License-Identifier: GPL-2.0-only']\n",
    "\n",
    "    [Additional Notes]\n",
    "        - The `line_number` and `score` are provided for context, but you should focus solely on the `text` to determine license relevance.\n",
    "        - If unsure about a line's relevance, err on the side of including it in the output. \n",
    "\n",
    "    [Text]\n",
    "    {text}\n",
    "    \"\"\""
   ]
  },
  {
   "cell_type": "code",
   "execution_count": null,
   "metadata": {},
   "outputs": [],
   "source": [
    "llama_3_results = client.process_dataset(df.loc[10::], df_path='pytorch-main.csv',\n",
    "                                    model=Models.LLAMA_3_8b,\n",
    "                                    prompt_function=prompt_function,\n",
    "                                    parser=license_parser,\n",
    "                                    extra_file_path='extras',\n",
    "                                    log_every=5,\n",
    "                                )"
   ]
  },
  {
   "cell_type": "code",
   "execution_count": null,
   "metadata": {},
   "outputs": [],
   "source": [
    "llama_3_results.loc[71:80, 'response']"
   ]
  },
  {
   "cell_type": "code",
   "execution_count": null,
   "metadata": {},
   "outputs": [],
   "source": [
    "print(llama_3_results.loc[75, 'file_comments'])"
   ]
  },
  {
   "cell_type": "code",
   "execution_count": null,
   "metadata": {},
   "outputs": [],
   "source": [
    "llama_3_results.loc[75, 'response'] = \"['Copyright 2015-2016 Collabora Ltd.**  Based on the implementation from the Android Open Source Project,**  Copyright 2012 Google, Inc**  Permission is hereby granted, free of charge, to any person obtaining a*  copy of this software and associated documentation files (the \\\"Software\\\"),*  to deal in the Software without restriction, including without limitation*  the rights to use, copy, modify, merge, publish, distribute, sublicense,*  and/or sell copies of the Software, and to permit persons to whom the*  Software is furnished to do so, subject to the following conditions:**  The above copyright notice and this permission notice shall be included in*  all copies or substantial portions of the Software.**  THE SOFTWARE IS PROVIDED \\\"AS IS\\\", WITHOUT WARRANTY OF ANY KIND, EXPRESS OR*  IMPLIED, INCLUDING BUT NOT LIMITED TO THE WARRANTIES OF MERCHANTABILITY,*  FITNESS FOR A PARTICULAR PURPOSE AND NONINFRINGEMENT. IN NO EVENT SHALL*  THE AUTHORS OR COPYRIGHT HOLDERS BE LIABLE FOR ANY CLAIM, DAMAGES OR*  OTHER LIABILITY, WHETHER IN AN ACTION OF CONTRACT, TORT OR OTHERWISE,*  ARISING FROM, OUT OF OR IN CONNECTION WITH THE SOFTWARE OR THE USE OR*  OTHER DEALINGS IN THE SOFTWARE.']\""
   ]
  },
  {
   "cell_type": "code",
   "execution_count": null,
   "metadata": {},
   "outputs": [],
   "source": [
    "llama_3_results.to_csv('extras/dataset-labeled-1-75.csv')"
   ]
  },
  {
   "cell_type": "code",
   "execution_count": null,
   "metadata": {},
   "outputs": [],
   "source": [
    "print(llama_3_results.loc[21, 'response'])"
   ]
  },
  {
   "cell_type": "code",
   "execution_count": null,
   "metadata": {},
   "outputs": [],
   "source": [
    "llama_3_results.loc[20, 'response'] = \"['Released under the terms of the GNU GPL']\""
   ]
  },
  {
   "cell_type": "code",
   "execution_count": null,
   "metadata": {},
   "outputs": [],
   "source": [
    "embeddings_file_path = '/home/jimbo/Desktop/GSoC24/repo/GSoC24/extras/license_information/license_embeddings/768_SentenceTransformer-license-embedding.pkl'\n",
    "if os.path.exists(embeddings_file_path):\n",
    "    print(f\"Loading pre-embedded licenses from: {embeddings_file_path}\")\n",
    "    with open(embeddings_file_path, \"rb\") as fIn:\n",
    "        stored_data = pickle.load(fIn)\n",
    "        license_embeddings = stored_data['embeddings']\n",
    "embedding_model = SentenceTransformer(\"all-mpnet-base-v2\")\n",
    "file_idx = 76\n",
    "results = get_top_similar_license_lines(\\\n",
    "                df.loc[file_idx, 'file_comments'],\n",
    "                'extras/license_information/license_dataset.txt',\n",
    "                license_embeddings,\n",
    "                embedding_model,\n",
    "                top_k=10,\n",
    "                embedding_approach='license-embedding'\n",
    "            )\n",
    "results"
   ]
  },
  {
   "cell_type": "code",
   "execution_count": null,
   "metadata": {},
   "outputs": [],
   "source": [
    "import nirjas\n",
    "comments = nirjas.extract(os.path.join('extras', df.loc[file_idx, 'file path']))\n",
    "comments"
   ]
  }
 ],
 "metadata": {
  "kernelspec": {
   "display_name": "gsoc24env",
   "language": "python",
   "name": "python3"
  },
  "language_info": {
   "codemirror_mode": {
    "name": "ipython",
    "version": 3
   },
   "file_extension": ".py",
   "mimetype": "text/x-python",
   "name": "python",
   "nbconvert_exporter": "python",
   "pygments_lexer": "ipython3",
   "version": "3.8.10"
  }
 },
 "nbformat": 4,
 "nbformat_minor": 2
}
