{
 "cells": [
  {
   "cell_type": "code",
   "execution_count": 1,
   "metadata": {},
   "outputs": [
    {
     "name": "stderr",
     "output_type": "stream",
     "text": [
      "/home/jimbo/Desktop/GSoC24/repo/GSoC24/gsoc24env/lib/python3.8/site-packages/sentence_transformers/cross_encoder/CrossEncoder.py:11: TqdmWarning: IProgress not found. Please update jupyter and ipywidgets. See https://ipywidgets.readthedocs.io/en/stable/user_install.html\n",
      "  from tqdm.autonotebook import tqdm, trange\n",
      "/home/jimbo/Desktop/GSoC24/repo/GSoC24/gsoc24env/lib/python3.8/site-packages/huggingface_hub/file_download.py:1132: FutureWarning: `resume_download` is deprecated and will be removed in version 1.0.0. Downloads always resume when possible. If you want to force a new download, use `force_download=True`.\n",
      "  warnings.warn(\n"
     ]
    }
   ],
   "source": [
    "from helpers.models import Models\n",
    "from helpers.llm_client import LLMClient\n",
    "from helpers.parsers import license_parser\n",
    "from helpers.functions import *\n",
    "import pandas as pd\n",
    "from sentence_transformers import SentenceTransformer\n",
    "from sklearn.metrics import accuracy_score\n",
    "# pd.set_option('display.max_colwidth', None)  # Show full column width"
   ]
  },
  {
   "cell_type": "code",
   "execution_count": null,
   "metadata": {},
   "outputs": [],
   "source": [
    "from collections import Counter\n",
    "import string\n",
    "\n",
    "text = '\\n'.join(pd.read_csv('extras/license_information/license_dataset.csv')['License Text'])\n",
    "\n",
    "standard_chars = set(string.ascii_letters + string.digits + string.punctuation)\n",
    "\n",
    "non_standard_counts = Counter(char for char in text if char not in standard_chars)\n",
    "\n",
    "sorted_counts = sorted(non_standard_counts.items(), key=lambda item: item[1], reverse=True)\n",
    "\n",
    "for char, count in sorted_counts:\n",
    "    print(f\"'{char}': {count}\")"
   ]
  },
  {
   "cell_type": "code",
   "execution_count": null,
   "metadata": {},
   "outputs": [],
   "source": [
    "# notice file -> acknowledgement\n",
    "# obligations"
   ]
  },
  {
   "cell_type": "code",
   "execution_count": null,
   "metadata": {},
   "outputs": [],
   "source": [
    "create_license_dataset('extras/license_information/details')\n",
    "client = LLMClient()\n",
    "model = SentenceTransformer(\"all-mpnet-base-v2\")\n",
    "df = pd.read_csv('extras/dataset-labeled-1-75.csv')\n",
    "df = extract_comments(df)\n",
    "lines_tuple = get_top_similar_license_lines(\\\n",
    "        code_text = df.loc[50, 'file_comments'],\n",
    "        licenses_file_path = 'extras/license_information/license_dataset.csv',\n",
    "        model = model,\n",
    "        top_k = 10,\n",
    "        min_similarity = 60,\n",
    "        double_semantic_search = True\n",
    "    )\n",
    "lines_tuple"
   ]
  },
  {
   "cell_type": "markdown",
   "metadata": {},
   "source": [
    "## multi-qa-mpnet-base-dot-v1"
   ]
  },
  {
   "cell_type": "code",
   "execution_count": null,
   "metadata": {},
   "outputs": [],
   "source": [
    "create_license_dataset('extras/license_information/details')\n",
    "client = LLMClient()\n",
    "model = SentenceTransformer(\"multi-qa-mpnet-base-dot-v1\")\n",
    "df = pd.read_csv('extras/dataset-labeled-1-75.csv')\n",
    "df = extract_comments(df)\n",
    "for index, row in df.loc[:75].iterrows():\n",
    "    lines_tuple = get_top_similar_license_lines(\\\n",
    "                    code_text = row['file_comments'],\n",
    "                    licenses_file_path = 'extras/license_information/license_dataset.csv',\n",
    "                    model = model,\n",
    "                    top_k = 10,\n",
    "                    double_semantic_search=True,\n",
    "                    min_similarity=60\n",
    "            )\n",
    "    lines = [line[1] for line in lines_tuple]\n",
    "    lines = '\\n'.join(lines)\n",
    "    df.loc[index, 'license_relevant_lines'] = lines\n",
    "    lines = [line[2] for line in lines_tuple]\n",
    "    lines = '\\n'.join(lines)\n",
    "    df.loc[index, 'predicted_license_names'] = lines\n",
    "    lines = [line[3] for line in lines_tuple]\n",
    "    lines = '\\n'.join(lines)\n",
    "    df.loc[index, 'predicted_license_ids'] = lines\n",
    "for index, row in df.iterrows():\n",
    "    df.loc[index, 'license_found'] = license_line_found(row['license_relevant_lines'], row['response'])\n",
    "    df.loc[index, 'coverage'] = asses_coverage(row['license_relevant_lines'], row['response'])\n",
    "print('accuracy:', accuracy_score([1] * 75, df.loc[0:74]['license_found']))\n",
    "print('coverage: ', np.average(df.loc[0:74]['coverage']))"
   ]
  },
  {
   "cell_type": "code",
   "execution_count": null,
   "metadata": {},
   "outputs": [],
   "source": [
    "miss_classifcations = df.loc[0:74][df['license_found'] == 0]\n",
    "miss_classifcations[['file path', 'license_relevant_lines','response','predicted_license_names','scan results','predicted_license_ids']]"
   ]
  },
  {
   "cell_type": "markdown",
   "metadata": {},
   "source": [
    "## all-mpnet-base-v2"
   ]
  },
  {
   "cell_type": "code",
   "execution_count": 3,
   "metadata": {},
   "outputs": [
    {
     "name": "stdout",
     "output_type": "stream",
     "text": [
      "License dataset file created successfully at extras/license_information/license_dataset.csv\n"
     ]
    },
    {
     "name": "stderr",
     "output_type": "stream",
     "text": [
      "/home/jimbo/Desktop/GSoC24/repo/GSoC24/gsoc24env/lib/python3.8/site-packages/huggingface_hub/file_download.py:1132: FutureWarning: `resume_download` is deprecated and will be removed in version 1.0.0. Downloads always resume when possible. If you want to force a new download, use `force_download=True`.\n",
      "  warnings.warn(\n"
     ]
    },
    {
     "name": "stdout",
     "output_type": "stream",
     "text": [
      "License Line Found Accuracy: 0.6\n",
      "License Lines Found Coverage: 57.676190476190484\n",
      "Predicted License Accuracy: 0.9333333333333333\n",
      "Predicted Licenses Covered: 84.0\n"
     ]
    }
   ],
   "source": [
    "create_license_dataset('extras/license_information/details')\n",
    "client = LLMClient()\n",
    "model = SentenceTransformer(\"all-mpnet-base-v2\")\n",
    "df = pd.read_csv('extras/dataset-labeled-1-75.csv')\n",
    "df = extract_comments(df)\n",
    "for index, row in df.loc[:75].iterrows():\n",
    "    lines_tuple = get_top_similar_license_lines(\\\n",
    "                    code_text = row['file_comments'],\n",
    "                    licenses_file_path = 'extras/license_information/license_dataset.csv',\n",
    "                    model = model,\n",
    "                    top_k = 10,\n",
    "                    min_similarity = 60,\n",
    "                    double_semantic_search = True\n",
    "            )\n",
    "    lines = [line[1] for line in lines_tuple]\n",
    "    lines = '\\n'.join(lines)\n",
    "    df.loc[index, 'license_relevant_lines'] = lines\n",
    "    lines = [line[2] for line in lines_tuple]\n",
    "    lines = '\\n'.join(lines)\n",
    "    df.loc[index, 'predicted_license_names'] = lines\n",
    "    lines = [line[3] for line in lines_tuple]\n",
    "    lines = '\\n'.join(lines)\n",
    "    df.loc[index, 'predicted_license_ids'] = lines\n",
    "for index, row in df[0:75].iterrows():\n",
    "    df.loc[index, 'license_found'] = license_line_found(row['license_relevant_lines'], row['response'])\n",
    "    df.loc[index, 'license_coverage'] = asses_coverage(row['license_relevant_lines'], row['response'])\n",
    "    df.loc[index, 'predicted_license_accurate'] = predicted_license_found(row['predicted_license_ids'], row['scan results'])\n",
    "    df.loc[index, 'predicted_licenses_covered'] = predicted_license_covered(row['predicted_license_ids'], row['scan results'])\n",
    "print('License Line Found Accuracy:', accuracy_score([1] * 75, df.loc[0:74]['license_found']))\n",
    "print('License Lines Found Coverage:', np.average(df.loc[0:74]['license_coverage']))\n",
    "print('Predicted License Accuracy:', accuracy_score([1] * 75, df.loc[0:74]['predicted_license_accurate']))\n",
    "print('Predicted Licenses Covered:', np.average(df.loc[0:74]['predicted_licenses_covered']))"
   ]
  },
  {
   "cell_type": "code",
   "execution_count": 4,
   "metadata": {},
   "outputs": [
    {
     "data": {
      "text/html": [
       "<div>\n",
       "<style scoped>\n",
       "    .dataframe tbody tr th:only-of-type {\n",
       "        vertical-align: middle;\n",
       "    }\n",
       "\n",
       "    .dataframe tbody tr th {\n",
       "        vertical-align: top;\n",
       "    }\n",
       "\n",
       "    .dataframe thead th {\n",
       "        text-align: right;\n",
       "    }\n",
       "</style>\n",
       "<table border=\"1\" class=\"dataframe\">\n",
       "  <thead>\n",
       "    <tr style=\"text-align: right;\">\n",
       "      <th></th>\n",
       "      <th>scan results</th>\n",
       "      <th>predicted_license_ids</th>\n",
       "    </tr>\n",
       "  </thead>\n",
       "  <tbody>\n",
       "    <tr>\n",
       "      <th>11</th>\n",
       "      <td>GPL</td>\n",
       "      <td>Ferguson-Twofish</td>\n",
       "    </tr>\n",
       "    <tr>\n",
       "      <th>58</th>\n",
       "      <td>See-doc.OTHER</td>\n",
       "      <td></td>\n",
       "    </tr>\n",
       "    <tr>\n",
       "      <th>59</th>\n",
       "      <td>See-doc.OTHER</td>\n",
       "      <td>ODbL-1.0</td>\n",
       "    </tr>\n",
       "    <tr>\n",
       "      <th>60</th>\n",
       "      <td>See-doc.OTHER</td>\n",
       "      <td>BSD-3-Clause-Modification</td>\n",
       "    </tr>\n",
       "    <tr>\n",
       "      <th>61</th>\n",
       "      <td>See-doc.OTHER</td>\n",
       "      <td>CECILL-C\\nLucida-Bitmap-Fonts</td>\n",
       "    </tr>\n",
       "  </tbody>\n",
       "</table>\n",
       "</div>"
      ],
      "text/plain": [
       "     scan results          predicted_license_ids\n",
       "11            GPL               Ferguson-Twofish\n",
       "58  See-doc.OTHER                               \n",
       "59  See-doc.OTHER                       ODbL-1.0\n",
       "60  See-doc.OTHER      BSD-3-Clause-Modification\n",
       "61  See-doc.OTHER  CECILL-C\\nLucida-Bitmap-Fonts"
      ]
     },
     "execution_count": 4,
     "metadata": {},
     "output_type": "execute_result"
    }
   ],
   "source": [
    "pd.set_option('display.max_colwidth', None)  # Show full column width\n",
    "df[df['predicted_license_accurate'] == 0][['scan results', 'predicted_license_ids']]"
   ]
  },
  {
   "cell_type": "code",
   "execution_count": null,
   "metadata": {},
   "outputs": [],
   "source": [
    "print(df.loc[48, 'file_comments'])"
   ]
  },
  {
   "cell_type": "code",
   "execution_count": null,
   "metadata": {},
   "outputs": [],
   "source": [
    "create_license_dataset('extras/license_information/details')\n",
    "client = LLMClient()\n",
    "model = SentenceTransformer(\"all-mpnet-base-v2\")\n",
    "df = pd.read_csv('extras/dataset-labeled-1-75.csv')\n",
    "df = extract_comments(df)\n",
    "lines_tuple = get_top_similar_license_lines(\\\n",
    "                code_text = df.loc[48, 'file_comments'],\n",
    "                licenses_file_path = 'extras/license_information/license_dataset.csv',\n",
    "                model = model,\n",
    "                top_k = 10,\n",
    "                embedding_approach='license-embedding',\n",
    "                double_semantic_search = True\n",
    "    )\n",
    "lines_tuple"
   ]
  },
  {
   "cell_type": "code",
   "execution_count": null,
   "metadata": {},
   "outputs": [],
   "source": [
    "print(df.loc[63, 'file_comments'])"
   ]
  },
  {
   "cell_type": "code",
   "execution_count": null,
   "metadata": {},
   "outputs": [],
   "source": [
    "miss_classifcations = df.loc[0:74][df['coverage'] != 100]\n",
    "miss_classifcations[['file path', 'license_relevant_lines','response','predicted_license_names','scan results','predicted_license_ids']]"
   ]
  },
  {
   "cell_type": "code",
   "execution_count": null,
   "metadata": {},
   "outputs": [],
   "source": [
    "df.loc[0:74][df['license_found'] == 1][['file path', 'license_relevant_lines','response','predicted_license_names','scan results','predicted_license_ids']]"
   ]
  },
  {
   "cell_type": "code",
   "execution_count": null,
   "metadata": {},
   "outputs": [],
   "source": [
    "licenses = pd.read_csv('extras/license_information/license_dataset.csv')"
   ]
  },
  {
   "cell_type": "markdown",
   "metadata": {},
   "source": [
    "## paraphrase-MiniLM-L3-v2"
   ]
  },
  {
   "cell_type": "code",
   "execution_count": null,
   "metadata": {},
   "outputs": [],
   "source": [
    "create_license_dataset('extras/license_information/details')\n",
    "client = LLMClient()\n",
    "model = SentenceTransformer(\"paraphrase-MiniLM-L3-v2\")\n",
    "df = pd.read_csv('extras/dataset-labeled-1-75.csv')\n",
    "for index, row in df.loc[:75].iterrows():\n",
    "    lines_tuple = get_top_similar_license_lines(\\\n",
    "                    code_text = row['file_comments'],\n",
    "                    licenses_file_path = 'extras/license_information/license_dataset.csv',\n",
    "                    model = model,\n",
    "                    top_k = 10,\n",
    "                    embedding_approach='license-embedding'\n",
    "            )\n",
    "    lines = [line[2] for line in lines_tuple]\n",
    "    lines = '\\n'.join(lines)\n",
    "    df.loc[index, 'license_relevant_lines'] = lines\n",
    "    lines = [line[3] for line in lines_tuple]\n",
    "    lines = '\\n'.join(lines)\n",
    "    df.loc[index, 'predicted_license_names'] = lines\n",
    "    lines = [line[4] for line in lines_tuple]\n",
    "    lines = '\\n'.join(lines)\n",
    "    df.loc[index, 'predicted_license_ids'] = lines\n",
    "for index, row in df.iterrows():\n",
    "    df.loc[index, 'license_found'] = license_line_found(row['license_relevant_lines'], row['response'])\n",
    "    df.loc[index, 'coverage'] = asses_coverage(row['license_relevant_lines'], row['response'])\n",
    "print('accuracy:', accuracy_score([1] * 75, df.loc[0:74]['license_found']))\n",
    "print('coverage: ', np.average(df.loc[0:74]['coverage']))"
   ]
  },
  {
   "cell_type": "code",
   "execution_count": null,
   "metadata": {},
   "outputs": [],
   "source": [
    "miss_classifcations = df.loc[0:74][df['license_found'] == 0]\n",
    "miss_classifcations[['file path', 'license_relevant_lines','response','predicted_license_names','scan results','predicted_license_ids']]"
   ]
  },
  {
   "cell_type": "markdown",
   "metadata": {},
   "source": [
    "## all-MiniLM-L12-v2 "
   ]
  },
  {
   "cell_type": "code",
   "execution_count": null,
   "metadata": {},
   "outputs": [],
   "source": [
    "create_license_dataset('extras/license_information/details')\n",
    "client = LLMClient()\n",
    "model = SentenceTransformer(\"all-MiniLM-L12-v2\")\n",
    "df = pd.read_csv('extras/dataset-labeled-1-75.csv')\n",
    "for index, row in df.loc[:75].iterrows():\n",
    "    lines_tuple = get_top_similar_license_lines(\\\n",
    "                    code_text = row['file_comments'],\n",
    "                    licenses_file_path = 'extras/license_information/license_dataset.csv',\n",
    "                    model = model,\n",
    "                    top_k = 10,\n",
    "                    embedding_approach='license-embedding'\n",
    "            )\n",
    "    lines = [line[2] for line in lines_tuple]\n",
    "    lines = '\\n'.join(lines)\n",
    "    df.loc[index, 'license_relevant_lines'] = lines\n",
    "    lines = [line[3] for line in lines_tuple]\n",
    "    lines = '\\n'.join(lines)\n",
    "    df.loc[index, 'predicted_license_names'] = lines\n",
    "    lines = [line[4] for line in lines_tuple]\n",
    "    lines = '\\n'.join(lines)\n",
    "    df.loc[index, 'predicted_license_ids'] = lines\n",
    "for index, row in df.iterrows():\n",
    "    df.loc[index, 'license_found'] = license_line_found(row['license_relevant_lines'], row['response'])\n",
    "    df.loc[index, 'coverage'] = asses_coverage(row['license_relevant_lines'], row['response'])\n",
    "print('accuracy:', accuracy_score([1] * 75, df.loc[0:74]['license_found']))\n",
    "print('coverage: ', np.average(df.loc[0:74]['coverage']))"
   ]
  },
  {
   "cell_type": "code",
   "execution_count": null,
   "metadata": {},
   "outputs": [],
   "source": [
    "miss_classifcations = df.loc[0:74][df['license_found'] == 0]\n",
    "miss_classifcations[['file path', 'license_relevant_lines','response','predicted_license_names','scan results','predicted_license_ids']]"
   ]
  },
  {
   "cell_type": "code",
   "execution_count": null,
   "metadata": {},
   "outputs": [],
   "source": [
    "idx = 1\n",
    "print(df[df['license_found'] == 1][['file path', 'license_relevant_lines','response','predicted_license_names','scan results','predicted_license_ids']].loc[idx])\n",
    "print('----')\n",
    "print(df.loc[idx, 'predicted_license_ids'])"
   ]
  },
  {
   "cell_type": "code",
   "execution_count": null,
   "metadata": {},
   "outputs": [],
   "source": []
  }
 ],
 "metadata": {
  "kernelspec": {
   "display_name": "gsoc24env",
   "language": "python",
   "name": "python3"
  },
  "language_info": {
   "codemirror_mode": {
    "name": "ipython",
    "version": 3
   },
   "file_extension": ".py",
   "mimetype": "text/x-python",
   "name": "python",
   "nbconvert_exporter": "python",
   "pygments_lexer": "ipython3",
   "version": "3.8.10"
  }
 },
 "nbformat": 4,
 "nbformat_minor": 2
}
