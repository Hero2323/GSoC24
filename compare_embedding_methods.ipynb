{
 "cells": [
  {
   "cell_type": "code",
   "execution_count": 1,
   "metadata": {},
   "outputs": [
    {
     "name": "stderr",
     "output_type": "stream",
     "text": [
      "/home/jimbo/Desktop/GSoC24/gsoc24env/lib/python3.8/site-packages/sentence_transformers/cross_encoder/CrossEncoder.py:11: TqdmWarning: IProgress not found. Please update jupyter and ipywidgets. See https://ipywidgets.readthedocs.io/en/stable/user_install.html\n",
      "  from tqdm.autonotebook import tqdm, trange\n"
     ]
    }
   ],
   "source": [
    "from helpers.models import Models\n",
    "from helpers.llm_client import LLMClient\n",
    "from helpers.parsers import license_parser\n",
    "from helpers.functions import *\n",
    "import pandas as pd"
   ]
  },
  {
   "cell_type": "markdown",
   "metadata": {},
   "source": [
    "# First, using Sentence Transformers"
   ]
  },
  {
   "cell_type": "code",
   "execution_count": 2,
   "metadata": {},
   "outputs": [
    {
     "name": "stdout",
     "output_type": "stream",
     "text": [
      "License dataset file created successfully at extras/license_information/license_dataset.txt\n"
     ]
    },
    {
     "name": "stderr",
     "output_type": "stream",
     "text": [
      "/home/jimbo/Desktop/GSoC24/gsoc24env/lib/python3.8/site-packages/huggingface_hub/file_download.py:1132: FutureWarning: `resume_download` is deprecated and will be removed in version 1.0.0. Downloads always resume when possible. If you want to force a new download, use `force_download=True`.\n",
      "  warnings.warn(\n"
     ]
    },
    {
     "name": "stdout",
     "output_type": "stream",
     "text": [
      "Loading pre-embedded licenses from: extras/license_information/license_embeddings/768_SentenceTransformer-license-embedding.pkl\n"
     ]
    },
    {
     "data": {
      "text/plain": [
       "[(40,\n",
       "  0.6339692,\n",
       "  ' File distributed under the Zero Clause BSD (0BSD) license. Copyright Contributors to the pythoncapi_compat project.',\n",
       "  'License Name: CNRI Python License'),\n",
       " (0,\n",
       "  0.5076868,\n",
       "  'Header file providing new C API functions to old Python versions.',\n",
       "  'N/A'),\n",
       " (1,\n",
       "  0.5062,\n",
       "  'SPDX-License-Identifier: 0BSD',\n",
       "  'License Name: Xdebug License v 1.03'),\n",
       " (41,\n",
       "  0.4910386,\n",
       "  ' Homepage: https://github.com/python/pythoncapi_compat',\n",
       "  'License Name: CNRI Python License'),\n",
       " (46,\n",
       "  0.47866815,\n",
       "  ' bpo-43753 added Py_Is(), Py_IsNone(), Py_IsTrue() and Py_IsFalse() to Python 3.10.0b1.',\n",
       "  'License Name: CNRI Python License')]"
      ]
     },
     "execution_count": 2,
     "metadata": {},
     "output_type": "execute_result"
    }
   ],
   "source": [
    "create_license_dataset('extras/license_information/details')\n",
    "client = LLMClient()\n",
    "df = client.temp_function(pd.read_csv('extras/lamma3-8b-pytorch-main-sampled.csv'))\n",
    "file_idx = 0\n",
    "results = get_top_similar_license_lines(\\\n",
    "                df.loc[file_idx, 'file_comments'],\n",
    "                'extras/license_information/license_dataset.txt',\n",
    "                # model='bow',\n",
    "                top_k=5,\n",
    "                embedding_approach='license-embedding'\n",
    "            )\n",
    "results"
   ]
  },
  {
   "cell_type": "code",
   "execution_count": 9,
   "metadata": {},
   "outputs": [],
   "source": [
    "idx = []\n",
    "for r in results:\n",
    "    idx.append(r[0])"
   ]
  },
  {
   "cell_type": "code",
   "execution_count": 10,
   "metadata": {},
   "outputs": [
    {
     "name": "stdout",
     "output_type": "stream",
     "text": [
      "Header file providing new C API functions to old Python versions.\n",
      "SPDX-License-Identifier: 0BSD\n",
      "PyFrameObject, PyFrame_GetBack()\n",
      "Cast argument to PyObject* type.\n",
      "\n",
      "gh-105922 added PyObject_Vectorcall() to Python 3.9.0a4\n",
      "bpo-36974 added _PyObject_Vectorcall() to Python 3.8.0b1\n",
      "PYTHONCAPI_COMPAT\n",
      " File distributed under the Zero Clause BSD (0BSD) license. Copyright Contributors to the pythoncapi_compat project.\n",
      " Homepage: https://github.com/python/pythoncapi_compat\n",
      " Latest version: https://raw.githubusercontent.com/python/pythoncapi_compat/master/pythoncapi_compat.h\n",
      " Compatibility with Visual Studio 2013 and older which don't support the inline keyword in C (only in C++): use __inline instead.\n",
      "\n",
      "bpo-36974 added _PyObject_Vectorcall() to Python 3.8.0b1\n",
      "PYTHONCAPI_COMPAT\n",
      " File distributed under the Zero Clause BSD (0BSD) license. Copyright Contributors to the pythoncapi_compat project.\n",
      " Homepage: https://github.com/python/pythoncapi_compat\n",
      " Latest version: https://raw.githubusercontent.com/python/pythoncapi_compat/master/pythoncapi_compat.h\n",
      " Compatibility with Visual Studio 2013 and older which don't support the inline keyword in C (only in C++): use __inline instead.\n",
      " On C++11 and newer, _Py_NULL is defined as nullptr on C++11, otherwise it is defined as NULL.\n",
      "\n",
      " Compatibility with Visual Studio 2013 and older which don't support the inline keyword in C (only in C++): use __inline instead.\n",
      " On C++11 and newer, _Py_NULL is defined as nullptr on C++11, otherwise it is defined as NULL.\n",
      " Py_SETREF() and Py_XSETREF() were added to Python 3.5.2. It is excluded from the limited C API.\n",
      " bpo-43753 added Py_Is(), Py_IsNone(), Py_IsTrue() and Py_IsFalse() to Python 3.10.0b1.\n",
      " bpo-27129: Since Python 3.10.0a7, f_lasti is an instruction offset, not a bytes offset anymore. Python uses 16-bit \"wordcode\" (2 bytes) instructions.\n",
      " bpo-37194 added PyObject_CallNoArgs() to Python 3.9.0a1 PyObject_CallNoArgs() added to PyPy 3.9.16-v7.3.11\n",
      " bpo-39245 made PyObject_CallOneArg() public (previously called _PyObject_CallOneArg) in Python 3.9.0a4 PyObject_CallOneArg() added to PyPy 3.9.16-v7.3.11\n"
     ]
    }
   ],
   "source": [
    "def extract_areas(lines, indices, context_lines=3):\n",
    "    \"\"\"Extracts text areas around specified indices in a file, returning start and end indices.\n",
    "\n",
    "    Args:\n",
    "        file_path: Path to the text file.\n",
    "        indices: A list of 0-based line indices (integers) to extract around.\n",
    "        context_lines: Number of lines to include above and below each index.\n",
    "\n",
    "    Returns:\n",
    "        A list of tuples, each of the form (start_index, end_index) representing \n",
    "        the starting and ending line indices (inclusive) of an extracted area.\n",
    "    \"\"\"\n",
    "\n",
    "    areas = []\n",
    "\n",
    "    # Sort and deduplicate indices\n",
    "    sorted_indices = sorted(list(set(indices)))\n",
    "\n",
    "    for index in sorted_indices:\n",
    "        start_line = max(0, index - context_lines)\n",
    "        end_line = min(len(lines) - 1, index + context_lines)  # Inclusive end index\n",
    "\n",
    "        # Handle overlaps: Skip extraction if the area is already included\n",
    "        if not any(start_line <= existing_start <= end_line for existing_start, existing_end in areas):\n",
    "            areas.append((start_line, end_line))\n",
    "\n",
    "    extracted_text = \"\"\n",
    "    for start, end in areas:\n",
    "        extracted_text += \"\\n\".join(lines[start:end + 1]) + \"\\n\\n\"  # Add newline for separation\n",
    "    \n",
    "    return extracted_text.strip()  # Remove trailing newlines\n",
    "\n",
    "print(extract_areas(df.loc[file_idx, 'file_comments'].split('\\n'), idx))"
   ]
  },
  {
   "cell_type": "code",
   "execution_count": 5,
   "metadata": {},
   "outputs": [
    {
     "name": "stdout",
     "output_type": "stream",
     "text": [
      "Header file providing new C API functions to old Python versions.\n",
      "SPDX-License-Identifier: 0BSD\n",
      "PyFrameObject, PyFrame_GetBack()\n",
      "Cast argument to PyObject* type.\n",
      "bpo-42262 added Py_NewRef() to Python 3.10.0a3\n",
      "bpo-42262 added Py_XNewRef() to Python 3.10.0a3\n",
      "bpo-39573 added Py_SET_REFCNT() to Python 3.9.0a4\n",
      "bpo-39573 added Py_SET_TYPE() to Python 3.9.0a4\n",
      "bpo-39573 added Py_SET_SIZE() to Python 3.9.0a4\n",
      "bpo-40421 added PyFrame_GetCode() to Python 3.9.0b1\n",
      "bpo-40421 added PyFrame_GetBack() to Python 3.9.0b1\n",
      "bpo-40421 added PyFrame_GetLocals() to Python 3.11.0a7\n",
      "bpo-40421 added PyFrame_GetGlobals() to Python 3.11.0a7\n",
      "bpo-40421 added PyFrame_GetBuiltins() to Python 3.11.0a7\n",
      "bpo-40421 added PyFrame_GetLasti() to Python 3.11.0b1\n",
      "gh-91248 added PyFrame_GetVar() to Python 3.12.0a2\n",
      "gh-91248 added PyFrame_GetVarString() to Python 3.12.0a2\n",
      "bpo-39947 added PyThreadState_GetInterpreter() to Python 3.9.0a5\n",
      "bpo-40429 added PyThreadState_GetFrame() to Python 3.9.0b1\n",
      "bpo-39947 added PyInterpreterState_Get() to Python 3.9.0a5\n",
      "bpo-39947 added PyInterpreterState_Get() to Python 3.9.0a6\n",
      "bpo-43760 added PyThreadState_EnterTracing() to Python 3.11.0a2\n",
      "bpo-43760 added PyThreadState_LeaveTracing() to Python 3.11.0a2\n",
      "bpo-1635741 added PyModule_AddObjectRef() to Python 3.10.0a3\n",
      "bpo-40024 added PyModule_AddType() to Python 3.9.0a5\n",
      "inline _PyType_Name()\n",
      "bpo-39573 added Py_IS_TYPE() to Python 3.9.0a4\n",
      "gh-92154 added PyCode_GetCode() to Python 3.11.0b1\n",
      "gh-95008 added PyCode_GetVarnames() to Python 3.11.0rc1\n",
      "gh-95008 added PyCode_GetFreevars() to Python 3.11.0rc1\n",
      "gh-95008 added PyCode_GetCellvars() to Python 3.11.0rc1\n",
      "Py_UNUSED() was added to Python 3.4.0b2.\n",
      "gh-105922 added PyImport_AddModuleRef() to Python 3.13.0a1\n",
      "gh-105927 added PyWeakref_GetRef() to Python 3.13.0a1\n",
      "SystemError if ref is NULL\n",
      "bpo-36974 added PY_VECTORCALL_ARGUMENTS_OFFSET to Python 3.8b1\n",
      "bpo-36974 added PyVectorcall_NARGS() to Python 3.8b1\n",
      "gh-105922 added PyObject_Vectorcall() to Python 3.9.0a4\n",
      "bpo-36974 added _PyObject_Vectorcall() to Python 3.8.0b1\n",
      "PYTHONCAPI_COMPAT\n",
      " File distributed under the Zero Clause BSD (0BSD) license. Copyright Contributors to the pythoncapi_compat project.\n",
      " Homepage: https://github.com/python/pythoncapi_compat\n",
      " Latest version: https://raw.githubusercontent.com/python/pythoncapi_compat/master/pythoncapi_compat.h\n",
      " Compatibility with Visual Studio 2013 and older which don't support the inline keyword in C (only in C++): use __inline instead.\n",
      " On C++11 and newer, _Py_NULL is defined as nullptr on C++11, otherwise it is defined as NULL.\n",
      " Py_SETREF() and Py_XSETREF() were added to Python 3.5.2. It is excluded from the limited C API.\n",
      " bpo-43753 added Py_Is(), Py_IsNone(), Py_IsTrue() and Py_IsFalse() to Python 3.10.0b1.\n",
      " bpo-27129: Since Python 3.10.0a7, f_lasti is an instruction offset, not a bytes offset anymore. Python uses 16-bit \"wordcode\" (2 bytes) instructions.\n",
      " bpo-37194 added PyObject_CallNoArgs() to Python 3.9.0a1 PyObject_CallNoArgs() added to PyPy 3.9.16-v7.3.11\n",
      " bpo-39245 made PyObject_CallOneArg() public (previously called _PyObject_CallOneArg) in Python 3.9.0a4 PyObject_CallOneArg() added to PyPy 3.9.16-v7.3.11\n",
      " bpo-40241 added PyObject_GC_IsTracked() to Python 3.9.0a6. bpo-4688 added _PyObject_GC_IS_TRACKED() to Python 2.7.0a2.\n",
      " bpo-40241 added PyObject_GC_IsFinalized() to Python 3.9.0a6. bpo-18112 added _PyGCHead_FINALIZED() to Python 3.4.0 final.\n",
      " bpo-46906 added PyFloat_Pack2() and PyFloat_Unpack2() to Python 3.11a7. bpo-11734 added _PyFloat_Pack2() and _PyFloat_Unpack2() to Python 3.6.0b1. Python 3.11a2 moved _PyFloat_Pack2() and _PyFloat_Unpack2() to the internal C API: Python 3.11a2-3.11a6 versions are not supported.\n",
      " bpo-46906 added PyFloat_Pack4(), PyFloat_Pack8(), PyFloat_Unpack4() and PyFloat_Unpack8() to Python 3.11a7. Python 3.11a2 moved _PyFloat_Pack4(), _PyFloat_Pack8(), _PyFloat_Unpack4() and _PyFloat_Unpack8() to the internal C API: Python 3.11a2-3.11a6 versions are not supported.\n"
     ]
    }
   ],
   "source": [
    "print(df.loc[file_idx, 'file_comments'])"
   ]
  },
  {
   "cell_type": "markdown",
   "metadata": {},
   "source": [
    "# Second, Using TF-IDF"
   ]
  }
 ],
 "metadata": {
  "kernelspec": {
   "display_name": "gsoc24env",
   "language": "python",
   "name": "python3"
  },
  "language_info": {
   "codemirror_mode": {
    "name": "ipython",
    "version": 3
   },
   "file_extension": ".py",
   "mimetype": "text/x-python",
   "name": "python",
   "nbconvert_exporter": "python",
   "pygments_lexer": "ipython3",
   "version": "3.8.10"
  }
 },
 "nbformat": 4,
 "nbformat_minor": 2
}
